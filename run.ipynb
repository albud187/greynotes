{
 "cells": [
  {
   "cell_type": "code",
   "execution_count": 2,
   "metadata": {},
   "outputs": [],
   "source": [
    "import os\n",
    "import subprocess"
   ]
  },
  {
   "cell_type": "code",
   "execution_count": 25,
   "metadata": {},
   "outputs": [],
   "source": [
    "backend_commands = [\n",
    "    \"activate djangoEnv001\",\n",
    "    r'cd C:\\Users\\alfab\\Documents\\_Projects\\greynotes\\backend',\n",
    "    \"python manage.py runserver\"\n",
    "]\n",
    "\n",
    "frontend_commands = [\n",
    "    'activate djangoEnv001',\n",
    "    r'cd C:\\Users\\alfab\\Documents\\_Projects\\greynotes\\frontend',\n",
    "    'npm start'\n",
    "]"
   ]
  },
  {
   "cell_type": "code",
   "execution_count": 26,
   "metadata": {},
   "outputs": [],
   "source": [
    "def command_string(command_list):\n",
    "    cmd_string = ' && '.join(command_list)\n",
    "    return(cmd_string)"
   ]
  },
  {
   "cell_type": "code",
   "execution_count": 66,
   "metadata": {},
   "outputs": [
    {
     "data": {
      "text/plain": [
       "'cd C:\\\\Users\\\\alfab\\\\Documents\\\\_Projects\\\\greynotes\\\\backend'"
      ]
     },
     "execution_count": 66,
     "metadata": {},
     "output_type": "execute_result"
    }
   ],
   "source": [
    "backend = subprocess.Popen([\"start\", \"cmd\", \"/k\", command_string(backend_commands)], shell = True)\n",
    "frontend = subprocess.Popen([\"start\", \"cmd\", \"/k\", command_string(frontend_commands)], shell = True)"
   ]
  },
  {
   "cell_type": "code",
   "execution_count": 1,
   "metadata": {},
   "outputs": [],
   "source": [
    "import os\n",
    "import subprocess\n",
    "\n",
    "backend_commands = [\n",
    "    \"activate djangoEnv001\",\n",
    "    r'cd C:\\Users\\alfab\\Documents\\_Projects\\greynotes\\backend',\n",
    "    \"python manage.py runserver\"\n",
    "]\n",
    "\n",
    "frontend_commands = [\n",
    "    \"activate djangoEnv001\",\n",
    "    r'cd C:\\Users\\alfab\\Documents\\_Projects\\greynotes\\frontend',\n",
    "    'npm start'\n",
    "]\n",
    "\n",
    "def command_string(command_list):\n",
    "    cmd_string = ' && '.join(command_list)\n",
    "    return(cmd_string)\n",
    "\n",
    "backend = subprocess.Popen([\"start\", \"cmd\", \"/k\", command_string(backend_commands)], shell = True)\n",
    "frontend = subprocess.Popen([\"start\", \"cmd\", \"/k\", command_string(frontend_commands)], shell = True)\n"
   ]
  },
  {
   "cell_type": "code",
   "execution_count": null,
   "metadata": {},
   "outputs": [],
   "source": []
  }
 ],
 "metadata": {
  "kernelspec": {
   "display_name": "Python 3",
   "language": "python",
   "name": "python3"
  },
  "language_info": {
   "codemirror_mode": {
    "name": "ipython",
    "version": 3
   },
   "file_extension": ".py",
   "mimetype": "text/x-python",
   "name": "python",
   "nbconvert_exporter": "python",
   "pygments_lexer": "ipython3",
   "version": "3.8.3"
  }
 },
 "nbformat": 4,
 "nbformat_minor": 4
}
